{
 "cells": [
  {
   "cell_type": "code",
   "execution_count": 12,
   "metadata": {},
   "outputs": [],
   "source": [
    "import numpy as np\n",
    "from matplotlib import pyplot as plt\n",
    "import cv2"
   ]
  },
  {
   "cell_type": "code",
   "execution_count": 20,
   "metadata": {},
   "outputs": [],
   "source": [
    "def show(img):\n",
    "    plt.imshow(img, cmap='gray')\n",
    "    plt.xticks([])\n",
    "    plt.yticks([])"
   ]
  },
  {
   "cell_type": "code",
   "execution_count": null,
   "metadata": {},
   "outputs": [],
   "source": [
    "img_original = cv2.imread('processed_palm (1).jpg', 0)\n",
    "h, w = img_original.shape\n",
    "img = np.zeros((h+160,w), np.uint8)\n",
    "img[80:-80,:] = img_original\n",
    "plt.figure(figsize=(15,5))\n",
    "plt.subplot(131)\n",
    "show(img)\n",
    "blur = cv2.GaussianBlur(img,(5,5),0)\n",
    "plt.subplot(132)\n",
    "show(blur)\n",
    "_, th = cv2.threshold(blur,0,255,cv2.THRESH_BINARY+cv2.THRESH_OTSU)\n",
    "plt.subplot(133)\n",
    "show(th)\n",
    "plt.tight_layout()\n",
    "plt.show()"
   ]
  },
  {
   "cell_type": "code",
   "execution_count": null,
   "metadata": {},
   "outputs": [],
   "source": [
    "M = cv2.moments(th)\n",
    "h, w = img.shape\n",
    "x_c = M['m10'] // M['m00']\n",
    "y_c = M['m01'] // M['m00']\n",
    "plt.figure(figsize=(15,5))\n",
    "plt.subplot(121)\n",
    "show(th)\n",
    "plt.plot(x_c, y_c, 'bx', markersize=10)\n",
    "kernel = np.array([[0, 1, 0],\n",
    "                   [1, 1, 1],\n",
    "                   [0, 1, 0]]).astype(np.uint8)\n",
    "erosion = cv2.erode(th,kernel,iterations=1)\n",
    "boundary = th - erosion\n",
    "\n",
    "cnt, _ = cv2.findContours(boundary, cv2.RETR_TREE, cv2.CHAIN_APPROX_NONE)\n",
    "img_c = cv2.cvtColor(img, cv2.COLOR_GRAY2BGR)\n",
    "cnt = cnt[0]\n",
    "img_cnt = cv2.drawContours(img_c, [cnt], 0, (255,0,0), 2)\n",
    "plt.subplot(122)\n",
    "plt.plot(x_c, y_c, 'bx', markersize=10)\n",
    "show(img_cnt)\n",
    "plt.tight_layout()\n",
    "plt.show()\n",
    "\n",
    "cnt = cnt.reshape(-1,2)\n",
    "left_id = np.argmin(cnt.sum(-1))\n",
    "cnt = np.concatenate([cnt[left_id:,:], cnt[:left_id,:]])"
   ]
  },
  {
   "cell_type": "code",
   "execution_count": null,
   "metadata": {},
   "outputs": [],
   "source": [
    "dist_c = np.sqrt(np.square(cnt-[x_c, y_c]).sum(-1))\n",
    "f = np.fft.rfft(dist_c)\n",
    "cutoff = 15\n",
    "f_new = np.concatenate([f[:cutoff],0*f[cutoff:]])\n",
    "dist_c_1 = np.fft.irfft(f_new)\n",
    "plt.figure(figsize=(15,5))\n",
    "plt.grid()\n",
    "plt.plot(dist_c, label='Original ED function', color='r', linewidth='3', linestyle='--')\n",
    "plt.plot(dist_c_1, label='Low frequency reconstruction', color='b', linestyle='-')\n",
    "plt.legend()\n",
    "plt.show()"
   ]
  },
  {
   "cell_type": "code",
   "execution_count": null,
   "metadata": {},
   "outputs": [],
   "source": [
    "eta = np.square(np.abs(f_new)).sum()/np.square(np.abs(f)).sum()\n",
    "print('Power Retained: {:.4f}{}'.format(eta*100,'%'))"
   ]
  },
  {
   "cell_type": "code",
   "execution_count": null,
   "metadata": {},
   "outputs": [],
   "source": [
    "derivative = np.diff(dist_c_1)\n",
    "sign_change = np.diff(np.sign(derivative))/2\n",
    "plt.figure(figsize=(15,5))\n",
    "plt.plot(sign_change)\n",
    "plt.plot(derivative)\n",
    "plt.axhline(y=0, color='r')\n",
    "plt.grid()\n",
    "plt.show()"
   ]
  },
  {
   "cell_type": "code",
   "execution_count": null,
   "metadata": {},
   "outputs": [],
   "source": [
    "minimas = cnt[np.where(sign_change>0)[0]]\n",
    "v1, v2 = minimas[-1], minimas[-3]\n",
    "plt.figure(figsize=(15,5))\n",
    "plt.subplot(131)\n",
    "show(img)\n",
    "plt.plot(v1[0], v1[1],'rx')\n",
    "plt.plot(v2[0], v2[1],'bx')\n",
    "\n",
    "plt.subplot(132)\n",
    "theta = np.arctan2((v2-v1)[1], (v2-v1)[0])*180/np.pi\n",
    "print('The rotation of ROI is {:.02f}\\u00b0'.format(theta))\n",
    "# print(\"v2:\", v2)\n",
    "R = cv2.getRotationMatrix2D((int(v2[0]), int(v2[1])), theta, 1)\n",
    "img_r = cv2.warpAffine(img,R,(w,h))\n",
    "v1 = (R[:, :2] @ v1 + R[:, -1]).astype(int)\n",
    "v2 = (R[:, :2] @ v2 + R[:, -1]).astype(int)\n",
    "plt.plot(v1[0], v1[1],'rx')\n",
    "plt.plot(v2[0], v2[1],'bx')\n",
    "show(img_r)\n",
    "\n",
    "ux = v1[0]\n",
    "uy = v1[1] + (v2-v1)[0]//3\n",
    "lx = v2[0]\n",
    "ly = v2[1] + 4*(v2-v1)[0]//3\n",
    "img_c = cv2.cvtColor(img_r, cv2.COLOR_GRAY2BGR)\n",
    "cv2.rectangle(img_c, (lx,ly),(ux,uy),(0,255,0),2)\n",
    "plt.subplot(133)\n",
    "show(img_c)\n",
    "\n",
    "plt.tight_layout()\n",
    "plt.show()"
   ]
  },
  {
   "cell_type": "code",
   "execution_count": null,
   "metadata": {},
   "outputs": [],
   "source": [
    "roi = img_r[uy:ly,ux:lx]\n",
    "plt.figure(figsize=(5,5))\n",
    "show(roi)"
   ]
  },
  {
   "cell_type": "code",
   "execution_count": null,
   "metadata": {},
   "outputs": [],
   "source": []
  }
 ],
 "metadata": {
  "kernelspec": {
   "display_name": "base",
   "language": "python",
   "name": "python3"
  },
  "language_info": {
   "codemirror_mode": {
    "name": "ipython",
    "version": 3
   },
   "file_extension": ".py",
   "mimetype": "text/x-python",
   "name": "python",
   "nbconvert_exporter": "python",
   "pygments_lexer": "ipython3",
   "version": "3.12.4"
  }
 },
 "nbformat": 4,
 "nbformat_minor": 2
}
