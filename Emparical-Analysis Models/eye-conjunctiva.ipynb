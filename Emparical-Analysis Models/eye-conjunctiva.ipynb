{
 "cells": [
  {
   "cell_type": "code",
   "execution_count": 1,
   "metadata": {
    "execution": {
     "iopub.execute_input": "2024-09-15T17:28:37.096585Z",
     "iopub.status.busy": "2024-09-15T17:28:37.096185Z",
     "iopub.status.idle": "2024-09-15T17:28:50.005976Z",
     "shell.execute_reply": "2024-09-15T17:28:50.005176Z",
     "shell.execute_reply.started": "2024-09-15T17:28:37.096547Z"
    },
    "trusted": true
   },
   "outputs": [],
   "source": [
    "import pandas as pd\n",
    "import numpy as np\n",
    "import matplotlib.pyplot as plt\n",
    "import seaborn as sns\n",
    "import warnings\n",
    "warnings.filterwarnings('ignore')\n",
    "\n",
    "import tensorflow as tf\n",
    "from tensorflow.keras.preprocessing.image import ImageDataGenerator"
   ]
  },
  {
   "cell_type": "code",
   "execution_count": null,
   "metadata": {
    "execution": {
     "iopub.execute_input": "2024-09-15T17:28:50.007956Z",
     "iopub.status.busy": "2024-09-15T17:28:50.007414Z",
     "iopub.status.idle": "2024-09-15T17:28:50.012822Z",
     "shell.execute_reply": "2024-09-15T17:28:50.011873Z",
     "shell.execute_reply.started": "2024-09-15T17:28:50.007921Z"
    },
    "trusted": true
   },
   "outputs": [],
   "source": [
    "train_path = '/path/to/your/training-data'\n",
    "val_path = '/path/to/your/validation-data'\n",
    "test_path = '/path/to/your/testing-data'\n",
    "\n",
    "batch_size = 16\n",
    "img_height = 224\n",
    "img_width = 224\n",
    "input_shape = (img_height , img_width , 3)"
   ]
  },
  {
   "cell_type": "code",
   "execution_count": null,
   "metadata": {
    "trusted": true
   },
   "outputs": [],
   "source": [
    "train_datagen = ImageDataGenerator(\n",
    "    rescale=1. / 255,\n",
    "    rotation_range=20,\n",
    "    width_shift_range=0.2,\n",
    "    height_shift_range=0.2,\n",
    "    shear_range=0.2,\n",
    "    zoom_range=0.2,\n",
    "    brightness_range=(0.8, 1.2),\n",
    "    horizontal_flip=True,\n",
    "    vertical_flip=True\n",
    ")\n",
    "\n",
    "valid_datagen = ImageDataGenerator(rescale=1. / 255)\n",
    "\n",
    "train_generator = train_datagen.flow_from_directory(\n",
    "    train_path,\n",
    "    target_size=(img_height, img_width),\n",
    "    batch_size=batch_size,\n",
    "    shuffle=True,\n",
    "    class_mode='binary'\n",
    ")\n",
    "\n",
    "validation_generator = valid_datagen.flow_from_directory(\n",
    "    val_path,\n",
    "    target_size=(img_height, img_width),\n",
    "    batch_size=batch_size,\n",
    "    shuffle=True,\n",
    "    class_mode='binary'\n",
    ")\n",
    "\n",
    "print(train_generator.class_indices)"
   ]
  },
  {
   "cell_type": "code",
   "execution_count": 4,
   "metadata": {
    "execution": {
     "iopub.execute_input": "2024-09-15T17:29:06.211386Z",
     "iopub.status.busy": "2024-09-15T17:29:06.210982Z",
     "iopub.status.idle": "2024-09-15T17:29:06.480700Z",
     "shell.execute_reply": "2024-09-15T17:29:06.479731Z",
     "shell.execute_reply.started": "2024-09-15T17:29:06.211345Z"
    },
    "trusted": true
   },
   "outputs": [],
   "source": [
    "images, labels = next(train_generator)"
   ]
  },
  {
   "cell_type": "code",
   "execution_count": null,
   "metadata": {
    "execution": {
     "iopub.execute_input": "2024-09-15T17:29:19.146591Z",
     "iopub.status.busy": "2024-09-15T17:29:19.145882Z",
     "iopub.status.idle": "2024-09-15T17:29:20.075474Z",
     "shell.execute_reply": "2024-09-15T17:29:20.074527Z",
     "shell.execute_reply.started": "2024-09-15T17:29:19.146551Z"
    },
    "trusted": true
   },
   "outputs": [],
   "source": [
    "def plot_augmented_images(images, labels, class_indices):\n",
    "    class_names = list(class_indices.keys())\n",
    "    plt.figure(figsize=(12, 12))\n",
    "    for i in range(min(len(images), 9)):  # Plot up to 9 images\n",
    "        plt.subplot(3, 3, i + 1)\n",
    "        plt.imshow(images[i])\n",
    "        class_idx = int(labels[i])\n",
    "        plt.title(class_names[class_idx])\n",
    "        plt.axis('off')\n",
    "    plt.show()\n",
    "\n",
    "print(train_generator.class_indices)\n",
    "plot_augmented_images(images, labels, train_generator.class_indices)"
   ]
  },
  {
   "cell_type": "code",
   "execution_count": 6,
   "metadata": {
    "execution": {
     "iopub.execute_input": "2024-09-15T17:29:29.447467Z",
     "iopub.status.busy": "2024-09-15T17:29:29.446588Z",
     "iopub.status.idle": "2024-09-15T17:29:29.453114Z",
     "shell.execute_reply": "2024-09-15T17:29:29.452170Z",
     "shell.execute_reply.started": "2024-09-15T17:29:29.447428Z"
    },
    "trusted": true
   },
   "outputs": [],
   "source": [
    "def resnet50():\n",
    "    base_model = tf.keras.applications.ResNet50(weights='imagenet', include_top=False, input_shape=(224,224,3))\n",
    "    x = base_model.output\n",
    "    x = tf.keras.layers.GlobalAveragePooling2D()(x)\n",
    "    pred = tf.keras.layers.Dense(1, activation='sigmoid')(x)\n",
    "    model_resnet50 = tf.keras.models.Model(inputs=base_model.input, outputs=pred)\n",
    "    return model_resnet50"
   ]
  },
  {
   "cell_type": "code",
   "execution_count": null,
   "metadata": {
    "execution": {
     "iopub.execute_input": "2024-09-15T17:29:30.999383Z",
     "iopub.status.busy": "2024-09-15T17:29:30.998995Z",
     "iopub.status.idle": "2024-09-15T17:29:33.992388Z",
     "shell.execute_reply": "2024-09-15T17:29:33.991502Z",
     "shell.execute_reply.started": "2024-09-15T17:29:30.999346Z"
    },
    "trusted": true
   },
   "outputs": [],
   "source": [
    "model_resnet50 = resnet50()\n",
    "adam = tf.keras.optimizers.Adam(learning_rate=0.0001)\n",
    "model_resnet50.compile(optimizer=adam, loss='binary_crossentropy', metrics=['accuracy'])\n",
    "model_resnet50.summary()"
   ]
  },
  {
   "cell_type": "code",
   "execution_count": null,
   "metadata": {
    "execution": {
     "iopub.execute_input": "2024-09-15T17:29:35.357114Z",
     "iopub.status.busy": "2024-09-15T17:29:35.356360Z",
     "iopub.status.idle": "2024-09-15T17:32:15.266803Z",
     "shell.execute_reply": "2024-09-15T17:32:15.265903Z",
     "shell.execute_reply.started": "2024-09-15T17:29:35.357071Z"
    },
    "trusted": true
   },
   "outputs": [],
   "source": [
    "from tensorflow.keras.callbacks import ReduceLROnPlateau, EarlyStopping\n",
    "\n",
    "reduce_lr = ReduceLROnPlateau(monitor='val_loss', factor=0.1, patience=5, verbose=1)\n",
    "early_stopping = EarlyStopping(monitor='val_loss', patience=7, verbose=1, restore_best_weights=True)\n",
    "\n",
    "history = model_resnet50.fit(\n",
    "    train_generator,\n",
    "    validation_data=validation_generator,\n",
    "    epochs=80,\n",
    "    callbacks=[reduce_lr, early_stopping]\n",
    ")"
   ]
  },
  {
   "cell_type": "code",
   "execution_count": null,
   "metadata": {
    "execution": {
     "iopub.execute_input": "2024-09-15T17:32:33.388953Z",
     "iopub.status.busy": "2024-09-15T17:32:33.388319Z",
     "iopub.status.idle": "2024-09-15T17:32:36.229835Z",
     "shell.execute_reply": "2024-09-15T17:32:36.228729Z",
     "shell.execute_reply.started": "2024-09-15T17:32:33.388913Z"
    },
    "trusted": true
   },
   "outputs": [],
   "source": [
    "def inception_v3():\n",
    "    base_model = tf.keras.applications.InceptionV3(weights='imagenet', include_top=False, input_shape=(224, 224, 3))\n",
    "    x = base_model.output\n",
    "    x = tf.keras.layers.GlobalAveragePooling2D()(x)\n",
    "    pred = tf.keras.layers.Dense(1, activation='sigmoid')(x)\n",
    "    model_inceptionv3 = tf.keras.models.Model(inputs=base_model.input, outputs=pred)\n",
    "    return model_inceptionv3\n",
    "\n",
    "model_inceptionv3 = inception_v3()\n",
    "adam = tf.keras.optimizers.Adam(learning_rate=0.0001)\n",
    "model_inceptionv3.compile(optimizer=adam, loss='binary_crossentropy', metrics=['accuracy'])\n",
    "model_inceptionv3.summary()"
   ]
  },
  {
   "cell_type": "code",
   "execution_count": null,
   "metadata": {
    "execution": {
     "iopub.execute_input": "2024-09-15T17:33:28.892686Z",
     "iopub.status.busy": "2024-09-15T17:33:28.891881Z",
     "iopub.status.idle": "2024-09-15T17:38:44.893233Z",
     "shell.execute_reply": "2024-09-15T17:38:44.892330Z",
     "shell.execute_reply.started": "2024-09-15T17:33:28.892634Z"
    },
    "trusted": true
   },
   "outputs": [],
   "source": [
    "from tensorflow.keras.callbacks import ReduceLROnPlateau, EarlyStopping\n",
    "\n",
    "reduce_lr = ReduceLROnPlateau(monitor='val_loss', factor=0.1, patience=5, verbose=1)\n",
    "early_stopping = EarlyStopping(monitor='val_loss', patience=7, verbose=1, restore_best_weights=True)\n",
    "\n",
    "history = model_inceptionv3.fit(\n",
    "    train_generator,\n",
    "    validation_data=validation_generator,\n",
    "    epochs=80,\n",
    "    callbacks=[reduce_lr, early_stopping]\n",
    ")"
   ]
  },
  {
   "cell_type": "code",
   "execution_count": null,
   "metadata": {
    "execution": {
     "iopub.execute_input": "2024-09-15T17:39:28.231700Z",
     "iopub.status.busy": "2024-09-15T17:39:28.231290Z",
     "iopub.status.idle": "2024-09-15T17:39:28.729075Z",
     "shell.execute_reply": "2024-09-15T17:39:28.728072Z",
     "shell.execute_reply.started": "2024-09-15T17:39:28.231649Z"
    },
    "trusted": true
   },
   "outputs": [],
   "source": [
    "plt.plot(history.history['loss'] , label = 'train_loss')\n",
    "plt.plot(history.history['val_loss'] , label = 'val_loss')\n",
    "plt.legend()\n",
    "plt.show()\n",
    "\n",
    "plt.plot(history.history['accuracy'] , label = 'train_acc')\n",
    "plt.plot(history.history['val_accuracy'] , label = 'val_acc')\n",
    "plt.legend()\n",
    "plt.show()"
   ]
  },
  {
   "cell_type": "code",
   "execution_count": null,
   "metadata": {
    "execution": {
     "iopub.execute_input": "2024-09-15T17:40:04.274061Z",
     "iopub.status.busy": "2024-09-15T17:40:04.273359Z",
     "iopub.status.idle": "2024-09-15T17:40:09.437922Z",
     "shell.execute_reply": "2024-09-15T17:40:09.436997Z",
     "shell.execute_reply.started": "2024-09-15T17:40:04.274019Z"
    },
    "trusted": true
   },
   "outputs": [],
   "source": [
    "test_datagen = ImageDataGenerator(rescale=1. / 255)\n",
    "\n",
    "test_generator = test_datagen.flow_from_directory(\n",
    "    test_path,\n",
    "    target_size=(img_height, img_width),\n",
    "    batch_size=batch_size,\n",
    "    shuffle=False,\n",
    "    class_mode='binary'\n",
    ")\n",
    "\n",
    "test_accu = model_inceptionv3.evaluate(test_generator)\n",
    "print('The testing accuracy is :',test_accu[1]*100, '%')"
   ]
  },
  {
   "cell_type": "code",
   "execution_count": null,
   "metadata": {
    "execution": {
     "iopub.execute_input": "2024-09-15T18:03:48.025489Z",
     "iopub.status.busy": "2024-09-15T18:03:48.024717Z",
     "iopub.status.idle": "2024-09-15T18:03:53.498412Z",
     "shell.execute_reply": "2024-09-15T18:03:53.497475Z",
     "shell.execute_reply.started": "2024-09-15T18:03:48.025445Z"
    },
    "trusted": true
   },
   "outputs": [],
   "source": [
    "def inception_resnet_v2():\n",
    "    base_model = tf.keras.applications.InceptionResNetV2(weights='imagenet', include_top=False, input_shape=(224, 224, 3))\n",
    "    x = base_model.output\n",
    "    x = tf.keras.layers.GlobalAveragePooling2D()(x)\n",
    "    pred = tf.keras.layers.Dense(1, activation='sigmoid')(x)\n",
    "    model_inception_resnet_v2 = tf.keras.models.Model(inputs=base_model.input, outputs=pred)\n",
    "    return model_inception_resnet_v2\n",
    "\n",
    "model_inception_resnet_v2 = inception_resnet_v2()\n",
    "adam = tf.keras.optimizers.Adam(learning_rate = 0.0001)\n",
    "model_inception_resnet_v2.compile(optimizer='adam', loss='binary_crossentropy', metrics=['accuracy'])\n",
    "model_inception_resnet_v2.summary()"
   ]
  },
  {
   "cell_type": "code",
   "execution_count": null,
   "metadata": {
    "execution": {
     "iopub.execute_input": "2024-09-15T18:03:56.459301Z",
     "iopub.status.busy": "2024-09-15T18:03:56.458580Z",
     "iopub.status.idle": "2024-09-15T18:16:23.131356Z",
     "shell.execute_reply": "2024-09-15T18:16:23.130328Z",
     "shell.execute_reply.started": "2024-09-15T18:03:56.459259Z"
    },
    "trusted": true
   },
   "outputs": [],
   "source": [
    "from tensorflow.keras.callbacks import ReduceLROnPlateau, EarlyStopping\n",
    "\n",
    "reduce_lr = ReduceLROnPlateau(monitor='val_loss', factor=0.1, patience=5, verbose=1)\n",
    "early_stopping = EarlyStopping(monitor='val_loss', patience=10, verbose=1, restore_best_weights=True)\n",
    "\n",
    "history = model_inception_resnet_v2.fit(\n",
    "    train_generator,\n",
    "    validation_data=validation_generator,\n",
    "    epochs=80,\n",
    "    callbacks=[reduce_lr, early_stopping]\n",
    ")"
   ]
  },
  {
   "cell_type": "code",
   "execution_count": null,
   "metadata": {
    "execution": {
     "iopub.execute_input": "2024-09-15T18:17:18.259612Z",
     "iopub.status.busy": "2024-09-15T18:17:18.259206Z",
     "iopub.status.idle": "2024-09-15T18:17:18.766196Z",
     "shell.execute_reply": "2024-09-15T18:17:18.765245Z",
     "shell.execute_reply.started": "2024-09-15T18:17:18.259572Z"
    },
    "trusted": true
   },
   "outputs": [],
   "source": [
    "plt.plot(history.history['loss'] , label = 'train_loss')\n",
    "plt.plot(history.history['val_loss'] , label = 'val_loss')\n",
    "plt.legend()\n",
    "plt.show()\n",
    "\n",
    "plt.plot(history.history['accuracy'] , label = 'train_acc')\n",
    "plt.plot(history.history['val_accuracy'] , label = 'val_acc')\n",
    "plt.legend()\n",
    "plt.show()"
   ]
  },
  {
   "cell_type": "code",
   "execution_count": null,
   "metadata": {
    "execution": {
     "iopub.execute_input": "2024-09-15T18:18:11.453743Z",
     "iopub.status.busy": "2024-09-15T18:18:11.452540Z",
     "iopub.status.idle": "2024-09-15T18:18:17.788298Z",
     "shell.execute_reply": "2024-09-15T18:18:17.787491Z",
     "shell.execute_reply.started": "2024-09-15T18:18:11.453662Z"
    },
    "trusted": true
   },
   "outputs": [],
   "source": [
    "test_datagen = ImageDataGenerator(rescale=1. / 255)\n",
    "\n",
    "test_generator = test_datagen.flow_from_directory(\n",
    "    test_path,\n",
    "    target_size=(img_height, img_width),\n",
    "    batch_size=batch_size,\n",
    "    shuffle=False,\n",
    "    class_mode='binary'\n",
    ")\n",
    "\n",
    "test_accu = model_inception_resnet_v2.evaluate(test_generator)\n",
    "print('The testing accuracy is :',test_accu[1]*100, '%')"
   ]
  },
  {
   "cell_type": "code",
   "execution_count": 27,
   "metadata": {
    "execution": {
     "iopub.execute_input": "2024-09-15T18:19:38.218352Z",
     "iopub.status.busy": "2024-09-15T18:19:38.217978Z",
     "iopub.status.idle": "2024-09-15T18:19:38.224814Z",
     "shell.execute_reply": "2024-09-15T18:19:38.223659Z",
     "shell.execute_reply.started": "2024-09-15T18:19:38.218317Z"
    },
    "trusted": true
   },
   "outputs": [],
   "source": [
    "def vgg19():\n",
    "    base_model = tf.keras.applications.VGG19(weights = 'imagenet', include_top = False, input_shape=(224,224,3))\n",
    "    x = base_model.output\n",
    "    x = tf.keras.layers.GlobalAveragePooling2D()(x)\n",
    "    pred = tf.keras.layers.Dense(1, activation='sigmoid')(x)\n",
    "    model_vgg19 = tf.keras.models.Model(inputs=base_model.input, outputs=pred)\n",
    "    return model_vgg19"
   ]
  },
  {
   "cell_type": "code",
   "execution_count": null,
   "metadata": {
    "execution": {
     "iopub.execute_input": "2024-09-15T18:19:43.842343Z",
     "iopub.status.busy": "2024-09-15T18:19:43.841976Z",
     "iopub.status.idle": "2024-09-15T18:19:44.238467Z",
     "shell.execute_reply": "2024-09-15T18:19:44.237522Z",
     "shell.execute_reply.started": "2024-09-15T18:19:43.842309Z"
    },
    "trusted": true
   },
   "outputs": [],
   "source": [
    "model_vgg19 = vgg19()\n",
    "adam = tf.keras.optimizers.Adam(learning_rate=0.0001)\n",
    "model_vgg19.compile(optimizer=adam, loss='binary_crossentropy', metrics=['accuracy'])\n",
    "model_vgg19.summary()"
   ]
  },
  {
   "cell_type": "code",
   "execution_count": null,
   "metadata": {
    "execution": {
     "iopub.execute_input": "2024-09-15T18:19:52.437968Z",
     "iopub.status.busy": "2024-09-15T18:19:52.437596Z",
     "iopub.status.idle": "2024-09-15T18:21:53.328866Z",
     "shell.execute_reply": "2024-09-15T18:21:53.327997Z",
     "shell.execute_reply.started": "2024-09-15T18:19:52.437932Z"
    },
    "trusted": true
   },
   "outputs": [],
   "source": [
    "from tensorflow.keras.callbacks import ReduceLROnPlateau, EarlyStopping\n",
    "\n",
    "reduce_lr = ReduceLROnPlateau(monitor='val_loss', factor=0.1, patience=5, verbose=1)\n",
    "early_stopping = EarlyStopping(monitor='val_loss', min_delta = 0.001, patience=10, verbose=1, restore_best_weights=True)\n",
    "\n",
    "history = model_vgg19.fit(\n",
    "    train_generator,\n",
    "    validation_data=validation_generator,\n",
    "    epochs=80,\n",
    "    callbacks=[reduce_lr, early_stopping]\n",
    ")"
   ]
  },
  {
   "cell_type": "code",
   "execution_count": null,
   "metadata": {
    "execution": {
     "iopub.execute_input": "2024-09-15T14:53:45.245495Z",
     "iopub.status.busy": "2024-09-15T14:53:45.244867Z",
     "iopub.status.idle": "2024-09-15T14:53:45.341368Z",
     "shell.execute_reply": "2024-09-15T14:53:45.340464Z",
     "shell.execute_reply.started": "2024-09-15T14:53:45.245457Z"
    },
    "trusted": true
   },
   "outputs": [],
   "source": [
    "from tensorflow.keras.models import Model\n",
    "from tensorflow.keras.layers import *\n",
    "\n",
    "class CustomModel():\n",
    "    def __init__(self, img_height, img_width):\n",
    "        self.conv1 = Conv2D(64, (3, 3), activation=\"relu\", input_shape=(img_height, img_width, 3))\n",
    "        self.pool1 = MaxPooling2D(pool_size=(2, 2))\n",
    "        self.conv2 = Conv2D(64, (3, 3), activation=\"relu\")\n",
    "        self.pool2 = MaxPooling2D(pool_size=(2, 2))\n",
    "        self.conv3 = Conv2D(128, (3, 3), activation=\"relu\")\n",
    "        self.pool3 = MaxPooling2D(pool_size=(2, 2))\n",
    "        self.conv4 = Conv2D(128, (3, 3), activation=\"relu\")\n",
    "        self.pool4 = MaxPooling2D(pool_size=(2, 2))\n",
    "        self.flatten = Flatten()\n",
    "        self.dense1 = Dense(256, activation='relu')\n",
    "        self.dense2 = Dense(256, activation='relu')\n",
    "        self.dense3 = Dense(1, activation='sigmoid')\n",
    "\n",
    "    def call(self):\n",
    "        self.inp = Input(shape=(img_height, img_width, 3))\n",
    "        x = self.conv1(self.inp)\n",
    "        x = self.pool1(x)\n",
    "        x = self.conv2(x)\n",
    "        x = self.pool2(x)\n",
    "        x = self.conv3(x)\n",
    "        x = self.pool3(x)\n",
    "        x = self.conv4(x)\n",
    "        x = self.pool4(x)\n",
    "        x = self.flatten(x)\n",
    "        x = self.dense1(x)\n",
    "        x = self.dense2(x)\n",
    "        final = self.dense3(x)\n",
    "        model = Model(inputs = self.inp, outputs = final)\n",
    "        return model\n",
    "\n",
    "img_height = 156\n",
    "img_width = 156\n",
    "\n",
    "# Initialize and build the model\n",
    "m = CustomModel(img_height, img_width)\n",
    "model = m.call()\n",
    "\n",
    "# Compile the model\n",
    "adam = tf.keras.optimizers.Adam(learning_rate=0.00001)\n",
    "model.compile(optimizer=adam, loss='binary_crossentropy', metrics=['accuracy'])\n",
    "\n",
    "model.summary()"
   ]
  },
  {
   "cell_type": "code",
   "execution_count": null,
   "metadata": {
    "execution": {
     "iopub.execute_input": "2024-09-15T14:53:45.663453Z",
     "iopub.status.busy": "2024-09-15T14:53:45.663048Z",
     "iopub.status.idle": "2024-09-15T14:55:26.986394Z",
     "shell.execute_reply": "2024-09-15T14:55:26.985603Z",
     "shell.execute_reply.started": "2024-09-15T14:53:45.663414Z"
    },
    "trusted": true
   },
   "outputs": [],
   "source": [
    "from tensorflow.keras.callbacks import ReduceLROnPlateau, EarlyStopping\n",
    "\n",
    "reduce_lr = ReduceLROnPlateau(monitor='val_loss', factor=0.1, patience=5, verbose=1)\n",
    "early_stopping = EarlyStopping(monitor='val_loss', min_delta = 0.001, patience=7, verbose=1, restore_best_weights=True)\n",
    "\n",
    "history = model.fit(\n",
    "    train_generator,\n",
    "    validation_data=validation_generator,\n",
    "    epochs=80,\n",
    "    callbacks=[reduce_lr, early_stopping]\n",
    ")"
   ]
  },
  {
   "cell_type": "code",
   "execution_count": null,
   "metadata": {
    "execution": {
     "iopub.execute_input": "2024-09-15T18:25:21.545166Z",
     "iopub.status.busy": "2024-09-15T18:25:21.544776Z",
     "iopub.status.idle": "2024-09-15T18:25:21.983801Z",
     "shell.execute_reply": "2024-09-15T18:25:21.982847Z",
     "shell.execute_reply.started": "2024-09-15T18:25:21.545129Z"
    },
    "trusted": true
   },
   "outputs": [],
   "source": [
    "import tensorflow as tf\n",
    "from tensorflow.keras import layers, models\n",
    "\n",
    "# Residual block with two convolutional layers\n",
    "def residual_block(x, filters, kernel_size=3, stride=1, downsample=False):\n",
    "    shortcut = x\n",
    "    if downsample:\n",
    "        shortcut = layers.Conv2D(filters, kernel_size=1, strides=stride, padding='same')(shortcut)\n",
    "        shortcut = layers.BatchNormalization()(shortcut)\n",
    "    \n",
    "    # Main path\n",
    "    x = layers.Conv2D(filters, kernel_size=kernel_size, strides=stride, padding='same')(x)\n",
    "    x = layers.BatchNormalization()(x)\n",
    "    x = layers.ReLU()(x)\n",
    "    \n",
    "    x = layers.Conv2D(filters, kernel_size=kernel_size, strides=1, padding='same')(x)\n",
    "    x = layers.BatchNormalization()(x)\n",
    "    \n",
    "    # Add shortcut and main path\n",
    "    x = layers.add([x, shortcut])\n",
    "    x = layers.ReLU()(x)\n",
    "    \n",
    "    return x\n",
    "\n",
    "# Building ResNet-18 architecture\n",
    "def build_resnet18(input_shape):\n",
    "    inputs = layers.Input(shape=input_shape)\n",
    "    \n",
    "    # Initial convolutional layer\n",
    "    x = layers.Conv2D(64, kernel_size=7, strides=2, padding='same')(inputs)\n",
    "    x = layers.BatchNormalization()(x)\n",
    "    x = layers.ReLU()(x)\n",
    "    x = layers.MaxPooling2D(pool_size=3, strides=2, padding='same')(x)\n",
    "    \n",
    "    # Residual blocks\n",
    "    x = residual_block(x, 64)\n",
    "    x = residual_block(x, 64)\n",
    "    \n",
    "    x = residual_block(x, 128, stride=2, downsample=True)\n",
    "    x = residual_block(x, 128)\n",
    "    \n",
    "    x = residual_block(x, 256, stride=2, downsample=True)\n",
    "    x = residual_block(x, 256)\n",
    "    \n",
    "    x = residual_block(x, 512, stride=2, downsample=True)\n",
    "    x = residual_block(x, 512)\n",
    "    \n",
    "    x = layers.GlobalAveragePooling2D()(x)\n",
    "    outputs = layers.Dense(1, activation='sigmoid')(x)\n",
    "    \n",
    "    model = models.Model(inputs, outputs)\n",
    "    return model\n",
    "\n",
    "input_shape = (224, 224, 3)\n",
    "\n",
    "model_resnet18 = build_resnet18(input_shape)\n",
    "\n",
    "model_resnet18.summary()"
   ]
  },
  {
   "cell_type": "code",
   "execution_count": 35,
   "metadata": {
    "execution": {
     "iopub.execute_input": "2024-09-15T18:25:23.250176Z",
     "iopub.status.busy": "2024-09-15T18:25:23.249794Z",
     "iopub.status.idle": "2024-09-15T18:25:23.259992Z",
     "shell.execute_reply": "2024-09-15T18:25:23.259133Z",
     "shell.execute_reply.started": "2024-09-15T18:25:23.250139Z"
    },
    "trusted": true
   },
   "outputs": [],
   "source": [
    "adam = tf.keras.optimizers.Adam(learning_rate=0.0001)\n",
    "model_resnet18.compile(optimizer=adam, loss='binary_crossentropy', metrics=['accuracy'])"
   ]
  },
  {
   "cell_type": "code",
   "execution_count": null,
   "metadata": {
    "execution": {
     "iopub.execute_input": "2024-09-15T18:25:25.505052Z",
     "iopub.status.busy": "2024-09-15T18:25:25.504634Z",
     "iopub.status.idle": "2024-09-15T18:27:33.835116Z",
     "shell.execute_reply": "2024-09-15T18:27:33.834171Z",
     "shell.execute_reply.started": "2024-09-15T18:25:25.505015Z"
    },
    "trusted": true
   },
   "outputs": [],
   "source": [
    "from tensorflow.keras.callbacks import ReduceLROnPlateau, EarlyStopping\n",
    "\n",
    "reduce_lr = ReduceLROnPlateau(monitor='val_loss', factor=0.1, patience=5, verbose=1)\n",
    "early_stopping = EarlyStopping(monitor='val_loss', min_delta = 0.001, patience=10, verbose=1, restore_best_weights=True)\n",
    "\n",
    "history = model_resnet18.fit(\n",
    "    train_generator,\n",
    "    validation_data=validation_generator,\n",
    "    epochs=50,\n",
    "    callbacks=[reduce_lr, early_stopping]\n",
    ")"
   ]
  },
  {
   "cell_type": "code",
   "execution_count": null,
   "metadata": {
    "execution": {
     "iopub.execute_input": "2024-09-15T15:09:27.527219Z",
     "iopub.status.busy": "2024-09-15T15:09:27.526838Z",
     "iopub.status.idle": "2024-09-15T15:09:28.049629Z",
     "shell.execute_reply": "2024-09-15T15:09:28.048617Z",
     "shell.execute_reply.started": "2024-09-15T15:09:27.527181Z"
    },
    "trusted": true
   },
   "outputs": [],
   "source": [
    "plt.plot(history.history['loss'] , label = 'train_loss')\n",
    "plt.plot(history.history['val_loss'] , label = 'val_loss')\n",
    "plt.legend()\n",
    "plt.show()\n",
    "\n",
    "plt.plot(history.history['accuracy'] , label = 'train_acc')\n",
    "plt.plot(history.history['val_accuracy'] , label = 'val_acc')\n",
    "plt.legend()\n",
    "plt.show()"
   ]
  },
  {
   "cell_type": "code",
   "execution_count": null,
   "metadata": {
    "execution": {
     "iopub.execute_input": "2024-09-15T15:09:53.317792Z",
     "iopub.status.busy": "2024-09-15T15:09:53.316986Z",
     "iopub.status.idle": "2024-09-15T15:09:55.306673Z",
     "shell.execute_reply": "2024-09-15T15:09:55.305777Z",
     "shell.execute_reply.started": "2024-09-15T15:09:53.317710Z"
    },
    "trusted": true
   },
   "outputs": [],
   "source": [
    "test_datagen = ImageDataGenerator(rescale=1. / 255)\n",
    "\n",
    "test_generator = test_datagen.flow_from_directory(\n",
    "    test_path,\n",
    "    target_size=(img_height, img_width),\n",
    "    batch_size=batch_size,\n",
    "    shuffle=False,\n",
    "    class_mode='binary'\n",
    ")\n",
    "\n",
    "test_accu = model_resnet18.evaluate(test_generator)\n",
    "print('The testing accuracy is :',test_accu[1]*100, '%')"
   ]
  },
  {
   "cell_type": "code",
   "execution_count": null,
   "metadata": {
    "execution": {
     "iopub.execute_input": "2024-09-15T18:37:34.443583Z",
     "iopub.status.busy": "2024-09-15T18:37:34.443170Z",
     "iopub.status.idle": "2024-09-15T18:37:38.837667Z",
     "shell.execute_reply": "2024-09-15T18:37:38.836742Z",
     "shell.execute_reply.started": "2024-09-15T18:37:34.443543Z"
    },
    "trusted": true
   },
   "outputs": [],
   "source": [
    "def mobilenet_v2():\n",
    "    base_model = tf.keras.applications.MobileNetV2(weights='imagenet', include_top=False, input_shape=(224, 224, 3))\n",
    "    x = base_model.output\n",
    "    x = tf.keras.layers.GlobalAveragePooling2D()(x)\n",
    "    pred = tf.keras.layers.Dense(1, activation='sigmoid')(x)\n",
    "    model_mobilenet_v2 = tf.keras.models.Model(inputs=base_model.input, outputs=pred)\n",
    "    return model_mobilenet_v2\n",
    "\n",
    "model_mobilenet_v2 = mobilenet_v2()\n",
    "model_mobilenet_v2.compile(optimizer=tf.keras.optimizers.Adam(learning_rate=0.0001), loss='binary_crossentropy', metrics=['accuracy'])\n",
    "model_mobilenet_v2.summary()"
   ]
  },
  {
   "cell_type": "code",
   "execution_count": null,
   "metadata": {
    "execution": {
     "iopub.execute_input": "2024-09-15T18:38:43.564336Z",
     "iopub.status.busy": "2024-09-15T18:38:43.563937Z",
     "iopub.status.idle": "2024-09-15T18:42:06.581925Z",
     "shell.execute_reply": "2024-09-15T18:42:06.580977Z",
     "shell.execute_reply.started": "2024-09-15T18:38:43.564296Z"
    },
    "trusted": true
   },
   "outputs": [],
   "source": [
    "from tensorflow.keras.callbacks import ReduceLROnPlateau, EarlyStopping\n",
    "\n",
    "reduce_lr = ReduceLROnPlateau(monitor='val_loss', factor=0.1, patience=5, verbose=1)\n",
    "early_stopping = EarlyStopping(monitor='val_loss', min_delta = 0.001, patience=10, verbose=1, restore_best_weights=True)\n",
    "\n",
    "history = model_mobilenet_v2.fit(\n",
    "    train_generator,\n",
    "    validation_data=validation_generator,\n",
    "    epochs=50,\n",
    "    callbacks=[reduce_lr, early_stopping]\n",
    ")"
   ]
  },
  {
   "cell_type": "code",
   "execution_count": null,
   "metadata": {
    "execution": {
     "iopub.execute_input": "2024-09-15T18:44:30.216410Z",
     "iopub.status.busy": "2024-09-15T18:44:30.216027Z",
     "iopub.status.idle": "2024-09-15T18:44:32.217758Z",
     "shell.execute_reply": "2024-09-15T18:44:32.216831Z",
     "shell.execute_reply.started": "2024-09-15T18:44:30.216374Z"
    },
    "trusted": true
   },
   "outputs": [],
   "source": [
    "import tensorflow as tf\n",
    "\n",
    "def efficientnet_b0():\n",
    "    base_model = tf.keras.applications.EfficientNetB0(weights='imagenet', include_top=False, input_shape=(224, 224, 3))\n",
    "    x = base_model.output\n",
    "    x = tf.keras.layers.GlobalAveragePooling2D()(x)\n",
    "    pred = tf.keras.layers.Dense(1, activation='sigmoid')(x)\n",
    "    model_efficientnet_b0 = tf.keras.models.Model(inputs=base_model.input, outputs=pred)\n",
    "    return model_efficientnet_b0\n",
    "\n",
    "model_efficientnet_b0 = efficientnet_b0()\n",
    "model_efficientnet_b0.compile(optimizer=tf.keras.optimizers.Adam(learning_rate=0.0001), loss='binary_crossentropy', metrics=['accuracy'])\n",
    "model_efficientnet_b0.summary()"
   ]
  },
  {
   "cell_type": "code",
   "execution_count": null,
   "metadata": {
    "execution": {
     "iopub.execute_input": "2024-09-15T18:45:21.764696Z",
     "iopub.status.busy": "2024-09-15T18:45:21.764297Z",
     "iopub.status.idle": "2024-09-15T18:48:53.705022Z",
     "shell.execute_reply": "2024-09-15T18:48:53.704058Z",
     "shell.execute_reply.started": "2024-09-15T18:45:21.764647Z"
    },
    "trusted": true
   },
   "outputs": [],
   "source": [
    "reduce_lr = ReduceLROnPlateau(monitor='val_loss', factor=0.1, patience=5, verbose=1)\n",
    "early_stopping = EarlyStopping(monitor='val_loss', min_delta = 0.0001, patience=10, verbose=1, restore_best_weights=True)\n",
    "\n",
    "history = model_efficientnet_b0.fit(train_generator, validation_data=validation_generator, epochs=50, callbacks=[reduce_lr, early_stopping])"
   ]
  },
  {
   "cell_type": "code",
   "execution_count": null,
   "metadata": {
    "execution": {
     "iopub.execute_input": "2024-09-15T18:50:11.235287Z",
     "iopub.status.busy": "2024-09-15T18:50:11.234893Z",
     "iopub.status.idle": "2024-09-15T18:50:14.531295Z",
     "shell.execute_reply": "2024-09-15T18:50:14.530372Z",
     "shell.execute_reply.started": "2024-09-15T18:50:11.235248Z"
    },
    "trusted": true
   },
   "outputs": [],
   "source": [
    "def densenet121():\n",
    "    base_model = tf.keras.applications.DenseNet121(weights='imagenet', include_top=False, input_shape=(224, 224, 3))\n",
    "    x = base_model.output\n",
    "    x = tf.keras.layers.GlobalAveragePooling2D()(x)\n",
    "    pred = tf.keras.layers.Dense(1, activation='sigmoid')(x)\n",
    "    model_densenet121 = tf.keras.models.Model(inputs=base_model.input, outputs=pred)\n",
    "    return model_densenet121\n",
    "\n",
    "model_densenet121 = densenet121()\n",
    "model_densenet121.compile(optimizer=tf.keras.optimizers.Adam(learning_rate=0.0001), loss='binary_crossentropy', metrics=['accuracy'])\n",
    "model_densenet121.summary()"
   ]
  },
  {
   "cell_type": "code",
   "execution_count": null,
   "metadata": {
    "execution": {
     "iopub.execute_input": "2024-09-15T18:50:14.533416Z",
     "iopub.status.busy": "2024-09-15T18:50:14.533057Z",
     "iopub.status.idle": "2024-09-15T18:58:22.253410Z",
     "shell.execute_reply": "2024-09-15T18:58:22.252560Z",
     "shell.execute_reply.started": "2024-09-15T18:50:14.533378Z"
    },
    "trusted": true
   },
   "outputs": [],
   "source": [
    "reduce_lr = ReduceLROnPlateau(monitor='val_loss', factor=0.1, patience=5, verbose=1)\n",
    "early_stopping = EarlyStopping(monitor='val_loss', min_delta = 0.0001, patience=10, verbose=1, restore_best_weights=True)\n",
    "\n",
    "history = model_densenet121.fit(train_generator, validation_data=validation_generator, epochs=50, callbacks=[reduce_lr, early_stopping])"
   ]
  },
  {
   "cell_type": "code",
   "execution_count": null,
   "metadata": {
    "execution": {
     "iopub.execute_input": "2024-09-15T18:59:52.089455Z",
     "iopub.status.busy": "2024-09-15T18:59:52.089101Z",
     "iopub.status.idle": "2024-09-15T19:00:00.470491Z",
     "shell.execute_reply": "2024-09-15T19:00:00.469598Z",
     "shell.execute_reply.started": "2024-09-15T18:59:52.089422Z"
    },
    "trusted": true
   },
   "outputs": [],
   "source": [
    "test_datagen = ImageDataGenerator(rescale=1. / 255)\n",
    "\n",
    "test_generator = test_datagen.flow_from_directory(\n",
    "    test_path,\n",
    "    target_size=(img_height, img_width),\n",
    "    batch_size=batch_size,\n",
    "    shuffle=False,\n",
    "    class_mode='binary'\n",
    ")\n",
    "\n",
    "test_accu = model_densenet121.evaluate(test_generator)\n",
    "print('The testing accuracy is :',test_accu[1]*100, '%')"
   ]
  },
  {
   "cell_type": "code",
   "execution_count": null,
   "metadata": {
    "execution": {
     "iopub.execute_input": "2024-09-15T19:00:13.176491Z",
     "iopub.status.busy": "2024-09-15T19:00:13.175632Z",
     "iopub.status.idle": "2024-09-15T19:00:13.578507Z",
     "shell.execute_reply": "2024-09-15T19:00:13.577593Z",
     "shell.execute_reply.started": "2024-09-15T19:00:13.176447Z"
    },
    "trusted": true
   },
   "outputs": [],
   "source": [
    "test_accuracy = test_accu[1]\n",
    "test_loss = test_accu[0]\n",
    "\n",
    "# Plotting Test Accuracy and Loss\n",
    "plt.figure(figsize=(8, 4))\n",
    "\n",
    "# Test Accuracy\n",
    "plt.subplot(1, 2, 1)\n",
    "plt.bar('Test Accuracy', test_accuracy, color='green', width=0.4)\n",
    "plt.ylim(0, 1)\n",
    "plt.title('Test Accuracy')\n",
    "plt.ylabel('Accuracy')\n",
    "\n",
    "# Test Loss\n",
    "plt.subplot(1, 2, 2)\n",
    "plt.bar('Test Loss', test_loss, color='red', width=0.4)\n",
    "plt.title('Test Loss')\n",
    "plt.ylabel('Loss')\n",
    "\n",
    "plt.tight_layout()\n",
    "plt.show()"
   ]
  },
  {
   "cell_type": "code",
   "execution_count": null,
   "metadata": {
    "execution": {
     "iopub.execute_input": "2024-09-15T19:01:50.212416Z",
     "iopub.status.busy": "2024-09-15T19:01:50.211519Z",
     "iopub.status.idle": "2024-09-15T19:01:51.379897Z",
     "shell.execute_reply": "2024-09-15T19:01:51.379016Z",
     "shell.execute_reply.started": "2024-09-15T19:01:50.212366Z"
    },
    "trusted": true
   },
   "outputs": [],
   "source": [
    "'your_specific_model'.save('saved_weights/eye_weights_arch.h5')"
   ]
  },
  {
   "cell_type": "code",
   "execution_count": null,
   "metadata": {
    "execution": {
     "iopub.execute_input": "2024-09-15T19:02:57.791224Z",
     "iopub.status.busy": "2024-09-15T19:02:57.790328Z",
     "iopub.status.idle": "2024-09-15T19:03:03.688301Z",
     "shell.execute_reply": "2024-09-15T19:03:03.687326Z",
     "shell.execute_reply.started": "2024-09-15T19:02:57.791165Z"
    },
    "trusted": true
   },
   "outputs": [],
   "source": [
    "def nasnet_mobile():\n",
    "    base_model = tf.keras.applications.NASNetMobile(weights='imagenet', include_top=False, input_shape=(224, 224, 3))\n",
    "    x = base_model.output\n",
    "    x = tf.keras.layers.GlobalAveragePooling2D()(x)\n",
    "    pred = tf.keras.layers.Dense(1, activation='sigmoid')(x)\n",
    "    model_nasnet_mobile = tf.keras.models.Model(inputs=base_model.input, outputs=pred)\n",
    "    return model_nasnet_mobile\n",
    "\n",
    "model_nasnet_mobile = nasnet_mobile()\n",
    "model_nasnet_mobile.compile(optimizer=tf.keras.optimizers.Adam(learning_rate=0.0001), loss='binary_crossentropy', metrics=['accuracy'])\n",
    "model_nasnet_mobile.summary()"
   ]
  },
  {
   "cell_type": "code",
   "execution_count": null,
   "metadata": {
    "execution": {
     "iopub.execute_input": "2024-09-15T19:03:03.910366Z",
     "iopub.status.busy": "2024-09-15T19:03:03.909516Z",
     "iopub.status.idle": "2024-09-15T19:10:07.787721Z",
     "shell.execute_reply": "2024-09-15T19:10:07.786848Z",
     "shell.execute_reply.started": "2024-09-15T19:03:03.910326Z"
    },
    "trusted": true
   },
   "outputs": [],
   "source": [
    "reduce_lr = ReduceLROnPlateau(monitor='val_loss', factor=0.1, patience=5, verbose=1)\n",
    "early_stopping = EarlyStopping(monitor='val_loss', min_delta = 0.0001, patience=10, verbose=1, restore_best_weights=True)\n",
    "\n",
    "history = model_nasnet_mobile.fit(train_generator, validation_data=validation_generator, epochs=50, callbacks=[reduce_lr, early_stopping])"
   ]
  },
  {
   "cell_type": "code",
   "execution_count": null,
   "metadata": {},
   "outputs": [],
   "source": []
  }
 ],
 "metadata": {
  "kaggle": {
   "accelerator": "nvidiaTeslaT4",
   "dataSources": [
    {
     "datasetId": 5710031,
     "sourceId": 9405148,
     "sourceType": "datasetVersion"
    }
   ],
   "dockerImageVersionId": 30762,
   "isGpuEnabled": true,
   "isInternetEnabled": true,
   "language": "python",
   "sourceType": "notebook"
  },
  "kernelspec": {
   "display_name": "Python 3",
   "language": "python",
   "name": "python3"
  },
  "language_info": {
   "codemirror_mode": {
    "name": "ipython",
    "version": 3
   },
   "file_extension": ".py",
   "mimetype": "text/x-python",
   "name": "python",
   "nbconvert_exporter": "python",
   "pygments_lexer": "ipython3",
   "version": "3.10.14"
  }
 },
 "nbformat": 4,
 "nbformat_minor": 4
}
