{
 "cells": [
  {
   "cell_type": "code",
   "execution_count": null,
   "metadata": {
    "execution": {
     "iopub.execute_input": "2024-09-15T14:26:41.804668Z",
     "iopub.status.busy": "2024-09-15T14:26:41.804191Z",
     "iopub.status.idle": "2024-09-15T14:26:41.843850Z",
     "shell.execute_reply": "2024-09-15T14:26:41.842968Z",
     "shell.execute_reply.started": "2024-09-15T14:26:41.804636Z"
    },
    "trusted": true
   },
   "outputs": [
    {
     "data": {
      "text/html": [
       "<div>\n",
       "<style scoped>\n",
       "    .dataframe tbody tr th:only-of-type {\n",
       "        vertical-align: middle;\n",
       "    }\n",
       "\n",
       "    .dataframe tbody tr th {\n",
       "        vertical-align: top;\n",
       "    }\n",
       "\n",
       "    .dataframe thead th {\n",
       "        text-align: right;\n",
       "    }\n",
       "</style>\n",
       "<table border=\"1\" class=\"dataframe\">\n",
       "  <thead>\n",
       "    <tr style=\"text-align: right;\">\n",
       "      <th></th>\n",
       "      <th>Gender</th>\n",
       "      <th>Hemoglobin</th>\n",
       "      <th>MCH</th>\n",
       "      <th>MCHC</th>\n",
       "      <th>MCV</th>\n",
       "      <th>Result</th>\n",
       "    </tr>\n",
       "  </thead>\n",
       "  <tbody>\n",
       "    <tr>\n",
       "      <th>0</th>\n",
       "      <td>1</td>\n",
       "      <td>14.9</td>\n",
       "      <td>22.7</td>\n",
       "      <td>29.1</td>\n",
       "      <td>83.7</td>\n",
       "      <td>0</td>\n",
       "    </tr>\n",
       "    <tr>\n",
       "      <th>1</th>\n",
       "      <td>0</td>\n",
       "      <td>15.9</td>\n",
       "      <td>25.4</td>\n",
       "      <td>28.3</td>\n",
       "      <td>72.0</td>\n",
       "      <td>0</td>\n",
       "    </tr>\n",
       "    <tr>\n",
       "      <th>2</th>\n",
       "      <td>0</td>\n",
       "      <td>9.0</td>\n",
       "      <td>21.5</td>\n",
       "      <td>29.6</td>\n",
       "      <td>71.2</td>\n",
       "      <td>1</td>\n",
       "    </tr>\n",
       "    <tr>\n",
       "      <th>3</th>\n",
       "      <td>0</td>\n",
       "      <td>14.9</td>\n",
       "      <td>16.0</td>\n",
       "      <td>31.4</td>\n",
       "      <td>87.5</td>\n",
       "      <td>0</td>\n",
       "    </tr>\n",
       "    <tr>\n",
       "      <th>4</th>\n",
       "      <td>1</td>\n",
       "      <td>14.7</td>\n",
       "      <td>22.0</td>\n",
       "      <td>28.2</td>\n",
       "      <td>99.5</td>\n",
       "      <td>0</td>\n",
       "    </tr>\n",
       "    <tr>\n",
       "      <th>5</th>\n",
       "      <td>0</td>\n",
       "      <td>11.6</td>\n",
       "      <td>22.3</td>\n",
       "      <td>30.9</td>\n",
       "      <td>74.5</td>\n",
       "      <td>1</td>\n",
       "    </tr>\n",
       "    <tr>\n",
       "      <th>6</th>\n",
       "      <td>1</td>\n",
       "      <td>12.7</td>\n",
       "      <td>19.5</td>\n",
       "      <td>28.9</td>\n",
       "      <td>82.9</td>\n",
       "      <td>1</td>\n",
       "    </tr>\n",
       "    <tr>\n",
       "      <th>7</th>\n",
       "      <td>1</td>\n",
       "      <td>12.7</td>\n",
       "      <td>28.5</td>\n",
       "      <td>28.2</td>\n",
       "      <td>92.3</td>\n",
       "      <td>1</td>\n",
       "    </tr>\n",
       "    <tr>\n",
       "      <th>8</th>\n",
       "      <td>0</td>\n",
       "      <td>14.1</td>\n",
       "      <td>29.7</td>\n",
       "      <td>30.5</td>\n",
       "      <td>75.2</td>\n",
       "      <td>0</td>\n",
       "    </tr>\n",
       "    <tr>\n",
       "      <th>9</th>\n",
       "      <td>1</td>\n",
       "      <td>14.9</td>\n",
       "      <td>25.8</td>\n",
       "      <td>31.3</td>\n",
       "      <td>82.9</td>\n",
       "      <td>0</td>\n",
       "    </tr>\n",
       "  </tbody>\n",
       "</table>\n",
       "</div>"
      ],
      "text/plain": [
       "   Gender  Hemoglobin   MCH  MCHC   MCV  Result\n",
       "0       1        14.9  22.7  29.1  83.7       0\n",
       "1       0        15.9  25.4  28.3  72.0       0\n",
       "2       0         9.0  21.5  29.6  71.2       1\n",
       "3       0        14.9  16.0  31.4  87.5       0\n",
       "4       1        14.7  22.0  28.2  99.5       0\n",
       "5       0        11.6  22.3  30.9  74.5       1\n",
       "6       1        12.7  19.5  28.9  82.9       1\n",
       "7       1        12.7  28.5  28.2  92.3       1\n",
       "8       0        14.1  29.7  30.5  75.2       0\n",
       "9       1        14.9  25.8  31.3  82.9       0"
      ]
     },
     "execution_count": 2,
     "metadata": {},
     "output_type": "execute_result"
    }
   ],
   "source": [
    "data = pd.read_csv('/path/to/your/anemia-manual-input-dataset')\n",
    "data.head(10)"
   ]
  },
  {
   "cell_type": "code",
   "execution_count": null,
   "metadata": {
    "execution": {
     "iopub.execute_input": "2024-09-15T14:26:49.198017Z",
     "iopub.status.busy": "2024-09-15T14:26:49.197476Z",
     "iopub.status.idle": "2024-09-15T14:26:49.974179Z",
     "shell.execute_reply": "2024-09-15T14:26:49.973310Z",
     "shell.execute_reply.started": "2024-09-15T14:26:49.197980Z"
    },
    "trusted": true
   },
   "outputs": [],
   "source": [
    "import matplotlib.pyplot as plt\n",
    "import seaborn as sns\n",
    "\n",
    "# Gender\n",
    "plt.figure(figsize=(8,6))\n",
    "ax = sns.countplot(x = data['Gender'])\n",
    "ax.bar_label(ax.containers[0])\n",
    "plt.show()"
   ]
  },
  {
   "cell_type": "code",
   "execution_count": null,
   "metadata": {
    "execution": {
     "iopub.execute_input": "2024-09-15T14:26:49.976080Z",
     "iopub.status.busy": "2024-09-15T14:26:49.975801Z",
     "iopub.status.idle": "2024-09-15T14:26:50.499616Z",
     "shell.execute_reply": "2024-09-15T14:26:50.498745Z",
     "shell.execute_reply.started": "2024-09-15T14:26:49.976056Z"
    },
    "trusted": true
   },
   "outputs": [],
   "source": [
    "# Hemoglobin\n",
    "\n",
    "sns.displot(data['Hemoglobin'],kde = True)\n",
    "\n",
    "print(f'''Mean : {np.mean(data['Hemoglobin']):.2f},\n",
    "Median : {np.median(data['Hemoglobin'])},\n",
    "Skewness : {data['Hemoglobin'].skew():.2f},\n",
    "Kurtosis : {data['Hemoglobin'].kurtosis():.2f}\n",
    "''')"
   ]
  },
  {
   "cell_type": "code",
   "execution_count": null,
   "metadata": {
    "execution": {
     "iopub.execute_input": "2024-09-15T14:26:50.501684Z",
     "iopub.status.busy": "2024-09-15T14:26:50.501327Z",
     "iopub.status.idle": "2024-09-15T14:27:00.550383Z",
     "shell.execute_reply": "2024-09-15T14:27:00.549501Z",
     "shell.execute_reply.started": "2024-09-15T14:26:50.501651Z"
    },
    "trusted": true
   },
   "outputs": [],
   "source": [
    "sns.pairplot(data)"
   ]
  },
  {
   "cell_type": "code",
   "execution_count": 8,
   "metadata": {
    "execution": {
     "iopub.execute_input": "2024-09-15T14:27:00.552665Z",
     "iopub.status.busy": "2024-09-15T14:27:00.552272Z",
     "iopub.status.idle": "2024-09-15T14:27:00.863737Z",
     "shell.execute_reply": "2024-09-15T14:27:00.862854Z",
     "shell.execute_reply.started": "2024-09-15T14:27:00.552635Z"
    },
    "trusted": true
   },
   "outputs": [
    {
     "data": {
      "image/png": "[encoded data removed]",
      "text/plain": [
       "<Figure size 1100x600 with 1 Axes>"
      ]
     },
     "metadata": {},
     "output_type": "display_data"
    }
   ],
   "source": [
    "plt.figure(figsize=(11,6))\n",
    "ax= sns.barplot(y= data['Hemoglobin'],x = data['Gender'],hue = data['Result'],errorbar=None)\n",
    "ax.set(xlabel=['Female','Male'])\n",
    "ax.bar_label(ax.containers[0])\n",
    "ax.bar_label(ax.containers[1])\n",
    "plt.title(\"Mean Hemoglobin by Gender and Result\")\n",
    "plt.show()"
   ]
  },
  {
   "cell_type": "code",
   "execution_count": 9,
   "metadata": {
    "execution": {
     "iopub.execute_input": "2024-09-15T14:27:00.865318Z",
     "iopub.status.busy": "2024-09-15T14:27:00.865040Z",
     "iopub.status.idle": "2024-09-15T14:27:00.872085Z",
     "shell.execute_reply": "2024-09-15T14:27:00.871076Z",
     "shell.execute_reply.started": "2024-09-15T14:27:00.865293Z"
    },
    "trusted": true
   },
   "outputs": [],
   "source": [
    "x = np.array(data.drop('Result',axis =1))\n",
    "y = np.array(data['Result'])\n",
    "y_data = data[['Result']]"
   ]
  },
  {
   "cell_type": "code",
   "execution_count": null,
   "metadata": {
    "execution": {
     "iopub.execute_input": "2024-09-15T14:27:00.875603Z",
     "iopub.status.busy": "2024-09-15T14:27:00.874751Z",
     "iopub.status.idle": "2024-09-15T14:27:00.881633Z",
     "shell.execute_reply": "2024-09-15T14:27:00.880818Z",
     "shell.execute_reply.started": "2024-09-15T14:27:00.875575Z"
    },
    "trusted": true
   },
   "outputs": [],
   "source": [
    "print(x.shape)\n",
    "print(y.shape)"
   ]
  },
  {
   "cell_type": "code",
   "execution_count": null,
   "metadata": {
    "execution": {
     "iopub.execute_input": "2024-09-15T14:27:00.883002Z",
     "iopub.status.busy": "2024-09-15T14:27:00.882701Z",
     "iopub.status.idle": "2024-09-15T14:27:13.463459Z",
     "shell.execute_reply": "2024-09-15T14:27:13.462644Z",
     "shell.execute_reply.started": "2024-09-15T14:27:00.882977Z"
    },
    "trusted": true
   },
   "outputs": [],
   "source": [
    "from sklearn.model_selection import train_test_split, cross_val_score\n",
    "from sklearn.preprocessing import StandardScaler\n",
    "from sklearn.metrics import accuracy_score, roc_auc_score\n",
    "\n",
    "from sklearn.linear_model import LogisticRegression\n",
    "from sklearn.ensemble import RandomForestClassifier\n",
    "from sklearn.neighbors import KNeighborsClassifier\n",
    "from sklearn.svm import SVC\n",
    "import tensorflow as tf\n",
    "from tensorflow.keras.models import Sequential\n",
    "from tensorflow.keras.layers import Dense, Dropout\n",
    "from sklearn.metrics import classification_report, roc_curve, roc_auc_score, confusion_matrix"
   ]
  },
  {
   "cell_type": "code",
   "execution_count": 12,
   "metadata": {
    "execution": {
     "iopub.execute_input": "2024-09-15T14:27:13.465107Z",
     "iopub.status.busy": "2024-09-15T14:27:13.464518Z",
     "iopub.status.idle": "2024-09-15T14:27:13.473439Z",
     "shell.execute_reply": "2024-09-15T14:27:13.472602Z",
     "shell.execute_reply.started": "2024-09-15T14:27:13.465079Z"
    },
    "trusted": true
   },
   "outputs": [],
   "source": [
    "X_train, X_test, y_train, y_test = train_test_split(x, y, test_size=0.25, stratify=y, random_state=42)"
   ]
  },
  {
   "cell_type": "code",
   "execution_count": 13,
   "metadata": {
    "execution": {
     "iopub.execute_input": "2024-09-15T14:27:13.475098Z",
     "iopub.status.busy": "2024-09-15T14:27:13.474768Z",
     "iopub.status.idle": "2024-09-15T14:27:13.564607Z",
     "shell.execute_reply": "2024-09-15T14:27:13.563836Z",
     "shell.execute_reply.started": "2024-09-15T14:27:13.475072Z"
    },
    "trusted": true
   },
   "outputs": [],
   "source": [
    "models = {\n",
    "    \"LogisticRegression\": LogisticRegression(random_state=42),\n",
    "    \"Knn\": KNeighborsClassifier(),\n",
    "    \"S.V.C.\": SVC(random_state=42),\n",
    "    \"RandomForestClassifier\": RandomForestClassifier(random_state=42)\n",
    "}"
   ]
  },
  {
   "cell_type": "code",
   "execution_count": null,
   "metadata": {
    "execution": {
     "iopub.execute_input": "2024-09-15T11:19:45.026851Z",
     "iopub.status.busy": "2024-09-15T11:19:45.026283Z",
     "iopub.status.idle": "2024-09-15T11:19:45.467006Z",
     "shell.execute_reply": "2024-09-15T11:19:45.466055Z",
     "shell.execute_reply.started": "2024-09-15T11:19:45.026819Z"
    },
    "trusted": true
   },
   "outputs": [],
   "source": [
    "for name in models.keys():\n",
    "    model = models[name]\n",
    "    \n",
    "    model.fit(X_train, y_train)\n",
    "    \n",
    "    y_pred_train = model.predict(X_train)\n",
    "    y_pred_test = model.predict(X_test)\n",
    "    \n",
    "    accuracy_train = accuracy_score(y_train, y_pred_train)\n",
    "    accuracy_test = accuracy_score(y_test, y_pred_test)\n",
    "    \n",
    "    auc_train = roc_auc_score(y_train, y_pred_train)\n",
    "    auc_test = roc_auc_score(y_test, y_pred_test)\n",
    "        \n",
    "    print(\"--\"*10, f\" {name} \", \"--\"*10)\n",
    "    print(f\"\\nAccuracy score: \\tTrain: {round(accuracy_train,2)} \\tTest: {round(accuracy_test,2)}\")\n",
    "    print(f\"\\nAUC score: \\t\\tTrain: {round(auc_train,2)} \\tTest: {round(auc_test,2)}\\n\")"
   ]
  },
  {
   "cell_type": "code",
   "execution_count": 15,
   "metadata": {
    "execution": {
     "iopub.execute_input": "2024-09-15T11:19:45.468506Z",
     "iopub.status.busy": "2024-09-15T11:19:45.468196Z",
     "iopub.status.idle": "2024-09-15T11:19:45.480519Z",
     "shell.execute_reply": "2024-09-15T11:19:45.479572Z",
     "shell.execute_reply.started": "2024-09-15T11:19:45.468481Z"
    },
    "trusted": true
   },
   "outputs": [],
   "source": [
    "model_neural = Sequential([\n",
    "    Dense(512,activation = 'relu',kernel_regularizer=tf.keras.regularizers.l2(0.1)),\n",
    "    Dense(128,activation = 'relu',kernel_regularizer= tf.keras.regularizers.l2(0.1)),\n",
    "    Dense(1,activation= 'sigmoid')\n",
    "])"
   ]
  },
  {
   "cell_type": "code",
   "execution_count": 16,
   "metadata": {
    "execution": {
     "iopub.execute_input": "2024-09-15T11:19:45.484179Z",
     "iopub.status.busy": "2024-09-15T11:19:45.483787Z",
     "iopub.status.idle": "2024-09-15T11:19:46.123116Z",
     "shell.execute_reply": "2024-09-15T11:19:46.122237Z",
     "shell.execute_reply.started": "2024-09-15T11:19:45.484154Z"
    },
    "trusted": true
   },
   "outputs": [],
   "source": [
    "model_neural.compile(loss = tf.keras.losses.BinaryCrossentropy(from_logits=True), optimizer=  tf.keras.optimizers.Adam(learning_rate = 0.001),metrics = [\"accuracy\"])"
   ]
  },
  {
   "cell_type": "code",
   "execution_count": null,
   "metadata": {
    "execution": {
     "iopub.execute_input": "2024-09-15T11:19:46.124528Z",
     "iopub.status.busy": "2024-09-15T11:19:46.124226Z",
     "iopub.status.idle": "2024-09-15T11:19:57.107653Z",
     "shell.execute_reply": "2024-09-15T11:19:57.106747Z",
     "shell.execute_reply.started": "2024-09-15T11:19:46.124502Z"
    },
    "trusted": true
   },
   "outputs": [],
   "source": [
    "model_neural.fit(X_train,y_train,epochs=100)"
   ]
  },
  {
   "cell_type": "code",
   "execution_count": null,
   "metadata": {
    "execution": {
     "iopub.execute_input": "2024-09-15T14:28:23.485925Z",
     "iopub.status.busy": "2024-09-15T14:28:23.484889Z",
     "iopub.status.idle": "2024-09-15T14:28:23.777971Z",
     "shell.execute_reply": "2024-09-15T14:28:23.777072Z",
     "shell.execute_reply.started": "2024-09-15T14:28:23.485878Z"
    },
    "trusted": true
   },
   "outputs": [],
   "source": [
    "import joblib\n",
    "\n",
    "rf_model = RandomForestClassifier(random_state=42)\n",
    "rf_model.fit(X_train, y_train)\n",
    "\n",
    "joblib.dump(rf_model, 'random_forest_model.joblib')\n",
    "\n",
    "print(\"Model saved successfully using joblib!\")"
   ]
  },
  {
   "cell_type": "code",
   "execution_count": null,
   "metadata": {
    "execution": {
     "iopub.execute_input": "2024-09-15T14:28:42.541256Z",
     "iopub.status.busy": "2024-09-15T14:28:42.540403Z",
     "iopub.status.idle": "2024-09-15T14:28:42.602057Z",
     "shell.execute_reply": "2024-09-15T14:28:42.601117Z",
     "shell.execute_reply.started": "2024-09-15T14:28:42.541221Z"
    },
    "trusted": true
   },
   "outputs": [],
   "source": [
    "loaded_rf_model = joblib.load('/kaggle/working/random_forest_model.joblib')\n",
    "\n",
    "y_pred_test = loaded_rf_model.predict(X_test)\n",
    "accuracy_test = accuracy_score(y_test, y_pred_test)\n",
    "\n",
    "print(f\"Test Accuracy: {accuracy_test * 100:.2f}%\")"
   ]
  },
  {
   "cell_type": "code",
   "execution_count": null,
   "metadata": {
    "execution": {
     "iopub.execute_input": "2024-09-15T11:27:37.401191Z",
     "iopub.status.busy": "2024-09-15T11:27:37.400829Z",
     "iopub.status.idle": "2024-09-15T11:27:38.406557Z",
     "shell.execute_reply": "2024-09-15T11:27:38.405622Z",
     "shell.execute_reply.started": "2024-09-15T11:27:37.401164Z"
    },
    "trusted": true
   },
   "outputs": [],
   "source": [
    "import matplotlib.pyplot as plt\n",
    "import numpy as np\n",
    "from sklearn.metrics import accuracy_score, roc_auc_score, roc_curve\n",
    "\n",
    "accuracy_train_list = []\n",
    "accuracy_test_list = []\n",
    "auc_train_list = []\n",
    "auc_test_list = []\n",
    "\n",
    "for name in models.keys():\n",
    "    model = models[name]\n",
    "    model.fit(X_train, y_train)\n",
    "    \n",
    "    y_pred_train = model.predict(X_train)\n",
    "    y_pred_test = model.predict(X_test)\n",
    "    \n",
    "    accuracy_train = accuracy_score(y_train, y_pred_train)\n",
    "    accuracy_test = accuracy_score(y_test, y_pred_test)\n",
    "    \n",
    "    auc_train = roc_auc_score(y_train, y_pred_train)\n",
    "    auc_test = roc_auc_score(y_test, y_pred_test)\n",
    "    \n",
    "    accuracy_train_list.append(accuracy_train)\n",
    "    accuracy_test_list.append(accuracy_test)\n",
    "    auc_train_list.append(auc_train)\n",
    "    auc_test_list.append(auc_test)\n",
    "    \n",
    "    print(f\"-- {name} --\")\n",
    "    print(f\"Accuracy Train: {accuracy_train:.2f}, Test: {accuracy_test:.2f}\")\n",
    "    print(f\"AUC Train: {auc_train:.2f}, Test: {auc_test:.2f}\")\n",
    "\n",
    "model_names = list(models.keys())\n",
    "\n",
    "accuracy_train_list = np.array(accuracy_train_list)\n",
    "accuracy_test_list = np.array(accuracy_test_list)\n",
    "auc_train_list = np.array(auc_train_list)\n",
    "auc_test_list = np.array(auc_test_list)\n",
    "\n",
    "x = np.arange(len(model_names))\n",
    "width = 0.35\n",
    "plt.figure(figsize=(12, 5))\n",
    "\n",
    "# Accuracy plot\n",
    "plt.subplot(1, 2, 1)\n",
    "plt.bar(x - width/2, accuracy_train_list, width, alpha=0.6, label='Train Accuracy', color='blue')\n",
    "plt.bar(x + width/2, accuracy_test_list, width, alpha=0.6, label='Test Accuracy', color='orange')\n",
    "plt.title('Model Accuracy (Train vs Test)')\n",
    "plt.ylabel('Accuracy')\n",
    "plt.xticks(x, model_names, rotation=45)\n",
    "plt.legend()\n",
    "\n",
    "# AUC plot\n",
    "plt.subplot(1, 2, 2)\n",
    "plt.bar(x - width/2, auc_train_list, width, alpha=0.6, label='Train AUC', color='green')\n",
    "plt.bar(x + width/2, auc_test_list, width, alpha=0.6, label='Test AUC', color='red')\n",
    "plt.title('Model AUC (Train vs Test)')\n",
    "plt.ylabel('AUC')\n",
    "plt.xticks(x, model_names, rotation=45)\n",
    "plt.legend()\n",
    "\n",
    "plt.tight_layout()\n",
    "plt.show()"
   ]
  }
 ],
 "metadata": {
  "kaggle": {
   "accelerator": "gpu",
   "dataSources": [
    {
     "datasetId": 2461417,
     "sourceId": 4170924,
     "sourceType": "datasetVersion"
    }
   ],
   "dockerImageVersionId": 30747,
   "isGpuEnabled": true,
   "isInternetEnabled": true,
   "language": "python",
   "sourceType": "notebook"
  },
  "kernelspec": {
   "display_name": "Python 3",
   "language": "python",
   "name": "python3"
  },
  "language_info": {
   "codemirror_mode": {
    "name": "ipython",
    "version": 3
   },
   "file_extension": ".py",
   "mimetype": "text/x-python",
   "name": "python",
   "nbconvert_exporter": "python",
   "pygments_lexer": "ipython3",
   "version": "3.10.13"
  }
 },
 "nbformat": 4,
 "nbformat_minor": 4
}
