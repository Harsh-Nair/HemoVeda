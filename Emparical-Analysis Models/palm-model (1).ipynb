{
 "cells": [
  {
   "cell_type": "code",
   "execution_count": 1,
   "metadata": {
    "execution": {
     "iopub.execute_input": "2024-09-15T08:25:55.754715Z",
     "iopub.status.busy": "2024-09-15T08:25:55.754325Z",
     "iopub.status.idle": "2024-09-15T08:26:08.218809Z",
     "shell.execute_reply": "2024-09-15T08:26:08.218010Z",
     "shell.execute_reply.started": "2024-09-15T08:25:55.754679Z"
    },
    "trusted": true
   },
   "outputs": [],
   "source": [
    "import pandas as pd\n",
    "import numpy as np\n",
    "import matplotlib.pyplot as plt\n",
    "import seaborn as sns\n",
    "import warnings\n",
    "warnings.filterwarnings('ignore')\n",
    "\n",
    "import tensorflow as tf\n",
    "from tensorflow.keras.preprocessing.image import ImageDataGenerator"
   ]
  },
  {
   "cell_type": "code",
   "execution_count": null,
   "metadata": {
    "execution": {
     "iopub.execute_input": "2024-09-15T08:26:24.496426Z",
     "iopub.status.busy": "2024-09-15T08:26:24.495514Z",
     "iopub.status.idle": "2024-09-15T08:26:24.501163Z",
     "shell.execute_reply": "2024-09-15T08:26:24.500282Z",
     "shell.execute_reply.started": "2024-09-15T08:26:24.496384Z"
    },
    "trusted": true
   },
   "outputs": [],
   "source": [
    "train_path = '/path/to/your/training-data'\n",
    "val_path = 'path/to/your/validation-data'\n",
    "test_path = 'path/to/your/testing-data'\n",
    "\n",
    "batch_size = 16\n",
    "img_height = 224\n",
    "img_width = 224\n",
    "input_shape = (img_height , img_width , 3)"
   ]
  },
  {
   "cell_type": "code",
   "execution_count": null,
   "metadata": {
    "trusted": true
   },
   "outputs": [],
   "source": [
    "train_datagen = ImageDataGenerator(\n",
    "    rescale=1. / 255,\n",
    "    rotation_range=20,\n",
    "    width_shift_range=0.2,\n",
    "    height_shift_range=0.2,\n",
    "    shear_range=0.2,\n",
    "    zoom_range=0.2,\n",
    "    brightness_range=(0.8, 1.2),\n",
    "    horizontal_flip=True,\n",
    "    vertical_flip=True\n",
    ")\n",
    "\n",
    "valid_datagen = ImageDataGenerator(rescale=1. / 255)\n",
    "\n",
    "train_generator = train_datagen.flow_from_directory(\n",
    "    train_path,\n",
    "    target_size=(img_height, img_width),\n",
    "    batch_size=batch_size,\n",
    "    shuffle=True,\n",
    "    class_mode='binary'\n",
    ")\n",
    "\n",
    "validation_generator = valid_datagen.flow_from_directory(\n",
    "    val_path,\n",
    "    target_size=(img_height, img_width),\n",
    "    batch_size=batch_size,\n",
    "    shuffle=True,\n",
    "    class_mode='binary'\n",
    ")\n",
    "\n",
    "# Print class indices\n",
    "print(train_generator.class_indices)"
   ]
  },
  {
   "cell_type": "code",
   "execution_count": null,
   "metadata": {
    "execution": {
     "iopub.execute_input": "2024-09-15T08:26:26.454846Z",
     "iopub.status.busy": "2024-09-15T08:26:26.454544Z",
     "iopub.status.idle": "2024-09-15T08:26:27.954994Z",
     "shell.execute_reply": "2024-09-15T08:26:27.954089Z",
     "shell.execute_reply.started": "2024-09-15T08:26:26.454815Z"
    },
    "trusted": true
   },
   "outputs": [],
   "source": [
    "images, labels = next(train_generator)\n",
    "\n",
    "def plot_augmented_images(images, labels, class_indices):\n",
    "    class_names = list(class_indices.keys())\n",
    "    plt.figure(figsize=(12, 12))\n",
    "    for i in range(min(len(images), 9)):  # Plot up to 9 images\n",
    "        plt.subplot(3, 3, i + 1)\n",
    "        plt.imshow(images[i])\n",
    "        class_idx = np.argmax(labels[i])\n",
    "        plt.title(class_names[class_idx])\n",
    "        plt.axis('off')\n",
    "    plt.show()\n",
    "\n",
    "print(train_generator.class_indices)\n",
    "plot_augmented_images(images, labels, train_generator.class_indices)"
   ]
  },
  {
   "cell_type": "code",
   "execution_count": 5,
   "metadata": {
    "execution": {
     "iopub.execute_input": "2024-09-15T08:26:27.956874Z",
     "iopub.status.busy": "2024-09-15T08:26:27.956570Z",
     "iopub.status.idle": "2024-09-15T08:26:27.962533Z",
     "shell.execute_reply": "2024-09-15T08:26:27.961608Z",
     "shell.execute_reply.started": "2024-09-15T08:26:27.956842Z"
    },
    "trusted": true
   },
   "outputs": [],
   "source": [
    "def resnet50():\n",
    "    base_model = tf.keras.applications.ResNet50(weights='imagenet', include_top=False, input_shape=(224,224,3))\n",
    "    x = base_model.output\n",
    "    x = tf.keras.layers.GlobalAveragePooling2D()(x)\n",
    "    pred = tf.keras.layers.Dense(1, activation='sigmoid')(x)\n",
    "    model_resnet50 = tf.keras.models.Model(inputs=base_model.input, outputs=pred)\n",
    "    return model_resnet50"
   ]
  },
  {
   "cell_type": "code",
   "execution_count": null,
   "metadata": {
    "execution": {
     "iopub.execute_input": "2024-09-15T08:26:35.527671Z",
     "iopub.status.busy": "2024-09-15T08:26:35.527303Z",
     "iopub.status.idle": "2024-09-15T08:26:40.929237Z",
     "shell.execute_reply": "2024-09-15T08:26:40.928278Z",
     "shell.execute_reply.started": "2024-09-15T08:26:35.527638Z"
    },
    "trusted": true
   },
   "outputs": [],
   "source": [
    "model_resnet50 = resnet50()\n",
    "adam = tf.keras.optimizers.Adam(learning_rate=0.0001)\n",
    "model_resnet50.compile(optimizer=adam, loss='binary_crossentropy', metrics=['accuracy'])\n",
    "model_resnet50.summary()"
   ]
  },
  {
   "cell_type": "code",
   "execution_count": null,
   "metadata": {
    "execution": {
     "iopub.execute_input": "2024-09-15T08:26:47.925745Z",
     "iopub.status.busy": "2024-09-15T08:26:47.925357Z",
     "iopub.status.idle": "2024-09-15T09:00:51.617657Z",
     "shell.execute_reply": "2024-09-15T09:00:51.616681Z",
     "shell.execute_reply.started": "2024-09-15T08:26:47.925707Z"
    },
    "trusted": true
   },
   "outputs": [],
   "source": [
    "from tensorflow.keras.callbacks import ReduceLROnPlateau, EarlyStopping\n",
    "\n",
    "reduce_lr = ReduceLROnPlateau(monitor='val_loss', factor=0.1, patience=5, verbose=1)\n",
    "early_stopping = EarlyStopping(monitor='val_loss', patience=7, verbose=1, restore_best_weights=True)\n",
    "\n",
    "history = model_resnet50.fit(\n",
    "    train_generator,\n",
    "    validation_data=validation_generator,\n",
    "    epochs=80,\n",
    "    callbacks=[reduce_lr, early_stopping]\n",
    ")"
   ]
  },
  {
   "cell_type": "code",
   "execution_count": null,
   "metadata": {
    "execution": {
     "iopub.execute_input": "2024-09-15T09:19:52.838449Z",
     "iopub.status.busy": "2024-09-15T09:19:52.837584Z",
     "iopub.status.idle": "2024-09-15T09:19:53.334214Z",
     "shell.execute_reply": "2024-09-15T09:19:53.333504Z",
     "shell.execute_reply.started": "2024-09-15T09:19:52.838403Z"
    },
    "trusted": true
   },
   "outputs": [],
   "source": [
    "plt.plot(history.history['loss'] , label = 'train_loss')\n",
    "plt.plot(history.history['val_loss'] , label = 'val_loss')\n",
    "plt.legend()\n",
    "plt.show()\n",
    "\n",
    "plt.plot(history.history['accuracy'] , label = 'train_acc')\n",
    "plt.plot(history.history['val_accuracy'] , label = 'val_acc')\n",
    "plt.legend()\n",
    "plt.show()"
   ]
  },
  {
   "cell_type": "code",
   "execution_count": null,
   "metadata": {
    "execution": {
     "iopub.execute_input": "2024-09-15T09:26:12.417576Z",
     "iopub.status.busy": "2024-09-15T09:26:12.417139Z",
     "iopub.status.idle": "2024-09-15T09:26:19.450430Z",
     "shell.execute_reply": "2024-09-15T09:26:19.449541Z",
     "shell.execute_reply.started": "2024-09-15T09:26:12.417535Z"
    },
    "trusted": true
   },
   "outputs": [],
   "source": [
    "test_datagen = ImageDataGenerator(rescale=1. / 255)\n",
    "\n",
    "test_generator = test_datagen.flow_from_directory(\n",
    "    test_path,\n",
    "    target_size=(img_height, img_width),\n",
    "    batch_size=batch_size,\n",
    "    shuffle=False,\n",
    "    class_mode='binary'\n",
    ")\n",
    "\n",
    "test_accu = model_resnet50.evaluate(test_generator)\n",
    "print('The testing accuracy is :',test_accu[1]*100, '%')"
   ]
  },
  {
   "cell_type": "code",
   "execution_count": null,
   "metadata": {
    "execution": {
     "iopub.execute_input": "2024-09-15T09:32:19.389652Z",
     "iopub.status.busy": "2024-09-15T09:32:19.389230Z",
     "iopub.status.idle": "2024-09-15T09:32:19.796366Z",
     "shell.execute_reply": "2024-09-15T09:32:19.795496Z",
     "shell.execute_reply.started": "2024-09-15T09:32:19.389616Z"
    },
    "trusted": true
   },
   "outputs": [],
   "source": [
    "test_accuracy = test_accu[1]\n",
    "test_loss = test_accu[0]\n",
    "\n",
    "# Plotting Test Accuracy and Loss\n",
    "plt.figure(figsize=(8, 4))\n",
    "\n",
    "# Test Accuracy\n",
    "plt.subplot(1, 2, 1)\n",
    "plt.bar('Test Accuracy', test_accuracy, color='green', width=0.4)\n",
    "plt.ylim(0, 1)\n",
    "plt.title('Test Accuracy')\n",
    "plt.ylabel('Accuracy')\n",
    "\n",
    "# Test Loss\n",
    "plt.subplot(1, 2, 2)\n",
    "plt.bar('Test Loss', test_loss, color='red', width=0.4)\n",
    "plt.title('Test Loss')\n",
    "plt.ylabel('Loss')\n",
    "\n",
    "plt.tight_layout()\n",
    "plt.show()"
   ]
  },
  {
   "cell_type": "code",
   "execution_count": 19,
   "metadata": {
    "execution": {
     "iopub.execute_input": "2024-09-15T09:40:23.170555Z",
     "iopub.status.busy": "2024-09-15T09:40:23.169811Z",
     "iopub.status.idle": "2024-09-15T09:40:23.176540Z",
     "shell.execute_reply": "2024-09-15T09:40:23.175510Z",
     "shell.execute_reply.started": "2024-09-15T09:40:23.170517Z"
    },
    "trusted": true
   },
   "outputs": [],
   "source": [
    "def inceptionresnetv2():\n",
    "    base_model = tf.keras.applications.InceptionResNetV2(weights='imagenet', include_top=False, input_shape=(224,224,3))\n",
    "    x = base_model.output\n",
    "    x = tf.keras.layers.GlobalAveragePooling2D()(x)\n",
    "    pred = tf.keras.layers.Dense(1, activation='sigmoid')(x)\n",
    "    model_inceptionresnetv2 = tf.keras.models.Model(inputs=base_model.input, outputs=pred)\n",
    "    return model_inceptionresnetv2"
   ]
  },
  {
   "cell_type": "code",
   "execution_count": null,
   "metadata": {
    "execution": {
     "iopub.execute_input": "2024-09-15T09:40:29.428649Z",
     "iopub.status.busy": "2024-09-15T09:40:29.427961Z",
     "iopub.status.idle": "2024-09-15T09:40:41.297004Z",
     "shell.execute_reply": "2024-09-15T09:40:41.296032Z",
     "shell.execute_reply.started": "2024-09-15T09:40:29.428608Z"
    },
    "trusted": true
   },
   "outputs": [],
   "source": [
    "model_inceptionresnetv2 = inceptionresnetv2()\n",
    "adam = tf.keras.optimizers.Adam(learning_rate=0.0001)\n",
    "model_inceptionresnetv2.compile(optimizer=adam, loss='binary_crossentropy', metrics=['accuracy'])\n",
    "model_inceptionresnetv2.summary()"
   ]
  },
  {
   "cell_type": "code",
   "execution_count": null,
   "metadata": {
    "execution": {
     "iopub.execute_input": "2024-09-15T09:42:30.126305Z",
     "iopub.status.busy": "2024-09-15T09:42:30.125419Z",
     "iopub.status.idle": "2024-09-15T10:24:01.058319Z",
     "shell.execute_reply": "2024-09-15T10:24:01.057445Z",
     "shell.execute_reply.started": "2024-09-15T09:42:30.126251Z"
    },
    "trusted": true
   },
   "outputs": [],
   "source": [
    "reduce_lr = ReduceLROnPlateau(monitor='val_loss', factor=0.1, patience=5, verbose=1)\n",
    "early_stopping = EarlyStopping(monitor='val_loss', min_delta = 0.0001, patience=7, verbose=1, restore_best_weights=True)\n",
    "\n",
    "history = model_inceptionresnetv2.fit(train_generator, validation_data=validation_generator, epochs=50, callbacks=[reduce_lr, early_stopping])"
   ]
  },
  {
   "cell_type": "code",
   "execution_count": null,
   "metadata": {
    "execution": {
     "iopub.execute_input": "2024-09-15T10:24:22.942481Z",
     "iopub.status.busy": "2024-09-15T10:24:22.941734Z",
     "iopub.status.idle": "2024-09-15T10:24:23.441533Z",
     "shell.execute_reply": "2024-09-15T10:24:23.440580Z",
     "shell.execute_reply.started": "2024-09-15T10:24:22.942437Z"
    },
    "trusted": true
   },
   "outputs": [],
   "source": [
    "plt.plot(history.history['loss'] , label = 'train_loss')\n",
    "plt.plot(history.history['val_loss'] , label = 'val_loss')\n",
    "plt.legend()\n",
    "plt.show()\n",
    "\n",
    "plt.plot(history.history['accuracy'] , label = 'train_acc')\n",
    "plt.plot(history.history['val_accuracy'] , label = 'val_acc')\n",
    "plt.legend()\n",
    "plt.show()"
   ]
  },
  {
   "cell_type": "code",
   "execution_count": null,
   "metadata": {
    "execution": {
     "iopub.execute_input": "2024-09-15T10:28:48.830315Z",
     "iopub.status.busy": "2024-09-15T10:28:48.829411Z",
     "iopub.status.idle": "2024-09-15T10:28:58.433314Z",
     "shell.execute_reply": "2024-09-15T10:28:58.432321Z",
     "shell.execute_reply.started": "2024-09-15T10:28:48.830274Z"
    },
    "trusted": true
   },
   "outputs": [],
   "source": [
    "test_datagen = ImageDataGenerator(rescale=1. / 255)\n",
    "\n",
    "test_generator = test_datagen.flow_from_directory(\n",
    "    test_path,\n",
    "    target_size=(img_height, img_width),\n",
    "    batch_size=batch_size,\n",
    "    shuffle=False,\n",
    "    class_mode='binary'\n",
    ")\n",
    "\n",
    "test_accu = model_inceptionresnetv2.evaluate(test_generator)\n",
    "print('The testing accuracy is :',test_accu[1]*100, '%')"
   ]
  },
  {
   "cell_type": "code",
   "execution_count": null,
   "metadata": {
    "execution": {
     "iopub.execute_input": "2024-09-15T10:29:07.794872Z",
     "iopub.status.busy": "2024-09-15T10:29:07.794085Z",
     "iopub.status.idle": "2024-09-15T10:29:08.179218Z",
     "shell.execute_reply": "2024-09-15T10:29:08.178318Z",
     "shell.execute_reply.started": "2024-09-15T10:29:07.794828Z"
    },
    "trusted": true
   },
   "outputs": [],
   "source": [
    "test_accuracy = test_accu[1]\n",
    "test_loss = test_accu[0]\n",
    "\n",
    "# Plotting Test Accuracy and Loss\n",
    "plt.figure(figsize=(8, 4))\n",
    "\n",
    "# Test Accuracy\n",
    "plt.subplot(1, 2, 1)\n",
    "plt.bar('Test Accuracy', test_accuracy, color='green', width=0.4)\n",
    "plt.ylim(0, 1)\n",
    "plt.title('Test Accuracy')\n",
    "plt.ylabel('Accuracy')\n",
    "\n",
    "# Test Loss\n",
    "plt.subplot(1, 2, 2)\n",
    "plt.bar('Test Loss', test_loss, color='red', width=0.4)\n",
    "plt.title('Test Loss')\n",
    "plt.ylabel('Loss')\n",
    "\n",
    "plt.tight_layout()\n",
    "plt.show()"
   ]
  },
  {
   "cell_type": "code",
   "execution_count": null,
   "metadata": {
    "execution": {
     "iopub.execute_input": "2024-09-15T10:32:59.681203Z",
     "iopub.status.busy": "2024-09-15T10:32:59.680527Z",
     "iopub.status.idle": "2024-09-15T10:33:00.049807Z",
     "shell.execute_reply": "2024-09-15T10:33:00.048936Z",
     "shell.execute_reply.started": "2024-09-15T10:32:59.681166Z"
    },
    "trusted": true
   },
   "outputs": [],
   "source": [
    "def vgg19():\n",
    "    base_model = tf.keras.applications.VGG19(weights = 'imagenet', include_top = False, input_shape=(224,224,3))\n",
    "    x = base_model.output\n",
    "    x = tf.keras.layers.GlobalAveragePooling2D()(x)\n",
    "    pred = tf.keras.layers.Dense(1, activation='sigmoid')(x)\n",
    "    model_vgg19 = tf.keras.models.Model(inputs=base_model.input, outputs=pred)\n",
    "    return model_vgg19\n",
    "\n",
    "model_vgg19 = vgg19()\n",
    "adam = tf.keras.optimizers.Adam(learning_rate=0.0001)\n",
    "model_vgg19.compile(optimizer=adam, loss='binary_crossentropy', metrics=['accuracy'])\n",
    "model_vgg19.summary()"
   ]
  },
  {
   "cell_type": "code",
   "execution_count": null,
   "metadata": {
    "execution": {
     "iopub.execute_input": "2024-09-15T10:33:02.442048Z",
     "iopub.status.busy": "2024-09-15T10:33:02.441432Z",
     "iopub.status.idle": "2024-09-15T11:17:29.030684Z",
     "shell.execute_reply": "2024-09-15T11:17:29.029668Z",
     "shell.execute_reply.started": "2024-09-15T10:33:02.442008Z"
    },
    "trusted": true
   },
   "outputs": [],
   "source": [
    "reduce_lr = ReduceLROnPlateau(monitor='val_loss', factor=0.1, patience=5, verbose=1)\n",
    "early_stopping = EarlyStopping(monitor='val_loss', min_delta = 0.0001, patience=7, verbose=1, restore_best_weights=True)\n",
    "\n",
    "history = model_vgg19.fit(train_generator, validation_data=validation_generator, epochs=50, callbacks=[reduce_lr, early_stopping])"
   ]
  },
  {
   "cell_type": "code",
   "execution_count": null,
   "metadata": {
    "execution": {
     "iopub.execute_input": "2024-09-15T11:17:41.627769Z",
     "iopub.status.busy": "2024-09-15T11:17:41.627002Z",
     "iopub.status.idle": "2024-09-15T11:17:42.104179Z",
     "shell.execute_reply": "2024-09-15T11:17:42.103262Z",
     "shell.execute_reply.started": "2024-09-15T11:17:41.627725Z"
    },
    "trusted": true
   },
   "outputs": [],
   "source": [
    "plt.plot(history.history['loss'] , label = 'train_loss')\n",
    "plt.plot(history.history['val_loss'] , label = 'val_loss')\n",
    "plt.legend()\n",
    "plt.show()\n",
    "\n",
    "plt.plot(history.history['accuracy'] , label = 'train_acc')\n",
    "plt.plot(history.history['val_accuracy'] , label = 'val_acc')\n",
    "plt.legend()\n",
    "plt.show()"
   ]
  },
  {
   "cell_type": "code",
   "execution_count": null,
   "metadata": {
    "execution": {
     "iopub.execute_input": "2024-09-15T11:17:58.957837Z",
     "iopub.status.busy": "2024-09-15T11:17:58.956827Z",
     "iopub.status.idle": "2024-09-15T11:18:07.375656Z",
     "shell.execute_reply": "2024-09-15T11:18:07.374740Z",
     "shell.execute_reply.started": "2024-09-15T11:17:58.957792Z"
    },
    "trusted": true
   },
   "outputs": [],
   "source": [
    "test_datagen = ImageDataGenerator(rescale=1. / 255)\n",
    "\n",
    "test_generator = test_datagen.flow_from_directory(\n",
    "    test_path,\n",
    "    target_size=(img_height, img_width),\n",
    "    batch_size=batch_size,\n",
    "    shuffle=False,\n",
    "    class_mode='binary'\n",
    ")\n",
    "\n",
    "test_accu = model_vgg19.evaluate(test_generator)\n",
    "print('The testing accuracy is :',test_accu[1]*100, '%')"
   ]
  },
  {
   "cell_type": "code",
   "execution_count": null,
   "metadata": {
    "execution": {
     "iopub.execute_input": "2024-09-15T11:18:16.932582Z",
     "iopub.status.busy": "2024-09-15T11:18:16.932213Z",
     "iopub.status.idle": "2024-09-15T11:18:17.226189Z",
     "shell.execute_reply": "2024-09-15T11:18:17.225260Z",
     "shell.execute_reply.started": "2024-09-15T11:18:16.932549Z"
    },
    "trusted": true
   },
   "outputs": [],
   "source": [
    "test_accuracy = test_accu[1]\n",
    "test_loss = test_accu[0]\n",
    "\n",
    "# Plotting Test Accuracy and Loss\n",
    "plt.figure(figsize=(8, 4))\n",
    "\n",
    "# Test Accuracy\n",
    "plt.subplot(1, 2, 1)\n",
    "plt.bar('Test Accuracy', test_accuracy, color='green', width=0.4)\n",
    "plt.ylim(0, 1)\n",
    "plt.title('Test Accuracy')\n",
    "plt.ylabel('Accuracy')\n",
    "\n",
    "# Test Loss\n",
    "plt.subplot(1, 2, 2)\n",
    "plt.bar('Test Loss', test_loss, color='red', width=0.4)\n",
    "plt.title('Test Loss')\n",
    "plt.ylabel('Loss')\n",
    "\n",
    "plt.tight_layout()\n",
    "plt.show()"
   ]
  },
  {
   "cell_type": "code",
   "execution_count": null,
   "metadata": {},
   "outputs": [],
   "source": []
  }
 ],
 "metadata": {
  "kaggle": {
   "accelerator": "nvidiaTeslaT4",
   "dataSources": [
    {
     "datasetId": 5701664,
     "sourceId": 9394732,
     "sourceType": "datasetVersion"
    }
   ],
   "dockerImageVersionId": 30762,
   "isGpuEnabled": true,
   "isInternetEnabled": true,
   "language": "python",
   "sourceType": "notebook"
  },
  "kernelspec": {
   "display_name": "Python 3",
   "language": "python",
   "name": "python3"
  },
  "language_info": {
   "codemirror_mode": {
    "name": "ipython",
    "version": 3
   },
   "file_extension": ".py",
   "mimetype": "text/x-python",
   "name": "python",
   "nbconvert_exporter": "python",
   "pygments_lexer": "ipython3",
   "version": "3.10.14"
  }
 },
 "nbformat": 4,
 "nbformat_minor": 4
}
